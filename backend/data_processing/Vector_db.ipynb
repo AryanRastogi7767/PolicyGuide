{
 "cells": [
  {
   "cell_type": "code",
   "execution_count": 1,
   "id": "f3632a1d-a3b5-446b-a7f6-7645ef6a047f",
   "metadata": {},
   "outputs": [],
   "source": [
    "from tqdm import tqdm\n",
    "import os\n",
    "import json\n",
    "import uuid\n",
    "from tqdm import tqdm\n",
    "from langchain_chroma import Chroma\n",
    "from langchain.storage import InMemoryStore\n",
    "from langchain.schema.document import Document\n",
    "from langchain.retrievers.multi_vector import MultiVectorRetriever\n",
    "from langchain_huggingface import HuggingFaceEmbeddings\n",
    "from transformers import pipeline\n",
    "from chromadb import PersistentClient\n",
    "import time"
   ]
  },
  {
   "cell_type": "code",
   "execution_count": 4,
   "id": "b79de79b-45f0-4ec6-a088-589e905be528",
   "metadata": {},
   "outputs": [],
   "source": [
    "embedding_function = HuggingFaceEmbeddings(model_name=\"sentence-transformers/msmarco-roberta-base-v3\")"
   ]
  },
  {
   "cell_type": "code",
   "execution_count": 5,
   "id": "95c7a9d8-f604-4007-bbfc-d47b658da0ef",
   "metadata": {},
   "outputs": [],
   "source": [
    "def load_existing_summaries(output_file):\n",
    "    existing_summaries = {}\n",
    "    \n",
    "    if os.path.exists(output_file):\n",
    "        with open(output_file, \"r\", encoding=\"utf-8\") as f:\n",
    "            for line in f:\n",
    "                try:\n",
    "                    entry = json.loads(line.strip())\n",
    "                    existing_summaries[entry[\"text\"]] = entry[\"summary\"]  # Store text-content as key\n",
    "                except json.JSONDecodeError:\n",
    "                    print(f\"⚠️ Skipping corrupted line in {output_file}\")\n",
    "    \n",
    "    return existing_summaries"
   ]
  },
  {
   "cell_type": "code",
   "execution_count": 6,
   "id": "8c9b4499-98f5-40e0-a70c-3c5d2210e827",
   "metadata": {},
   "outputs": [],
   "source": [
    "text_summaries = load_existing_summaries(\"text_summaries.jsonl\")\n",
    "table_summaries = load_existing_summaries(\"table_summaries.jsonl\")"
   ]
  },
  {
   "cell_type": "code",
   "execution_count": 7,
   "id": "e8b28b2c-5d93-4051-a97e-dbd8ab81eba2",
   "metadata": {},
   "outputs": [
    {
     "data": {
      "text/plain": [
       "1011"
      ]
     },
     "execution_count": 7,
     "metadata": {},
     "output_type": "execute_result"
    }
   ],
   "source": [
    "len(text_summaries)"
   ]
  },
  {
   "cell_type": "code",
   "execution_count": 41,
   "id": "0d0e9cf6-58ca-4855-a1e5-ccb79e5fe697",
   "metadata": {},
   "outputs": [],
   "source": [
    "texts = list(text_summaries.keys())\n",
    "tables = list(table_summaries.keys())"
   ]
  },
  {
   "cell_type": "code",
   "execution_count": 44,
   "id": "e987b904-ecec-4110-9521-bbd249351fc2",
   "metadata": {},
   "outputs": [],
   "source": [
    "text_summaries = list(text_summaries.values())\n",
    "table_summaries = list(table_summaries.values())"
   ]
  },
  {
   "cell_type": "code",
   "execution_count": 43,
   "id": "af172e4e-db99-4b5f-856c-501c715fe6d5",
   "metadata": {},
   "outputs": [],
   "source": [
    "# The vectorstore to use to index the child chunks\n",
    "client = PersistentClient(path=\"./chroma_db\")\n",
    "\n",
    "vectorstore = Chroma(client=client,collection_name=\"multi_modal_rag\", embedding_function=embedding_function)\n",
    "\n",
    "# The storage layer for the parent documents\n",
    "store = InMemoryStore()\n",
    "id_key = \"doc_id\"\n",
    "\n",
    "# The retriever (empty to start)\n",
    "retriever = MultiVectorRetriever(\n",
    "    vectorstore=vectorstore,\n",
    "    docstore=store,\n",
    "    id_key=id_key,\n",
    ")"
   ]
  },
  {
   "cell_type": "code",
   "execution_count": 45,
   "id": "15e90241-e724-426e-90ae-675b0f280eae",
   "metadata": {},
   "outputs": [
    {
     "name": "stdout",
     "output_type": "stream",
     "text": [
      "Generating document IDs...\n"
     ]
    },
    {
     "name": "stderr",
     "output_type": "stream",
     "text": [
      "Generating Text IDs: 100%|██████████████████████████| 1011/1011 [00:00<00:00, 108975.16it/s]\n",
      "Generating Table IDs: 100%|███████████████████████████| 394/394 [00:00<00:00, 117477.48it/s]\n"
     ]
    },
    {
     "name": "stdout",
     "output_type": "stream",
     "text": [
      "Creating text document objects...\n"
     ]
    },
    {
     "name": "stderr",
     "output_type": "stream",
     "text": [
      "Creating Text Docs: 100%|████████████████████████████| 1011/1011 [00:00<00:00, 73704.51it/s]\n"
     ]
    },
    {
     "name": "stdout",
     "output_type": "stream",
     "text": [
      "Creating table document objects...\n"
     ]
    },
    {
     "name": "stderr",
     "output_type": "stream",
     "text": [
      "Creating Table Docs: 100%|████████████████████████████| 394/394 [00:00<00:00, 332172.02it/s]\n"
     ]
    },
    {
     "name": "stdout",
     "output_type": "stream",
     "text": [
      "Adding text summaries to vectorstore...\n"
     ]
    },
    {
     "name": "stderr",
     "output_type": "stream",
     "text": [
      "Storing Texts in Vectorstore: 100%|█████████████████████| 1011/1011 [01:55<00:00,  8.76it/s]\n"
     ]
    },
    {
     "name": "stdout",
     "output_type": "stream",
     "text": [
      "Adding text summaries to docstore...\n"
     ]
    },
    {
     "name": "stderr",
     "output_type": "stream",
     "text": [
      "Storing Texts in Docstore: 100%|████████████████████| 1011/1011 [00:00<00:00, 400532.86it/s]\n"
     ]
    },
    {
     "name": "stdout",
     "output_type": "stream",
     "text": [
      "Adding table summaries to vectorstore...\n"
     ]
    },
    {
     "name": "stderr",
     "output_type": "stream",
     "text": [
      "Storing Tables in Vectorstore: 100%|██████████████████████| 394/394 [00:28<00:00, 14.04it/s]\n"
     ]
    },
    {
     "name": "stdout",
     "output_type": "stream",
     "text": [
      "Adding table summaries to docstore...\n"
     ]
    },
    {
     "name": "stderr",
     "output_type": "stream",
     "text": [
      "Storing Tables in Docstore: 100%|█████████████████████| 394/394 [00:00<00:00, 547929.63it/s]"
     ]
    },
    {
     "name": "stdout",
     "output_type": "stream",
     "text": [
      "✅ Database saved successfully!\n"
     ]
    },
    {
     "name": "stderr",
     "output_type": "stream",
     "text": [
      "\n"
     ]
    }
   ],
   "source": [
    "# Generate document IDs with progress bar\n",
    "print(\"Generating document IDs...\")\n",
    "doc_ids = [str(uuid.uuid4()) for _ in tqdm(texts, desc=\"Generating Text IDs\")]\n",
    "table_ids = [str(uuid.uuid4()) for _ in tqdm(tables, desc=\"Generating Table IDs\")]\n",
    "\n",
    "# Create summary document objects with progress bar\n",
    "print(\"Creating text document objects...\")\n",
    "summary_texts = [Document(page_content=summary, metadata={id_key: doc_ids[i]}) \n",
    "                 for i, summary in tqdm(enumerate(text_summaries), desc=\"Creating Text Docs\", total=len(text_summaries))]\n",
    "\n",
    "print(\"Creating table document objects...\")\n",
    "summary_tables = [Document(page_content=summary, metadata={id_key: table_ids[i]}) \n",
    "                  for i, summary in tqdm(enumerate(table_summaries), desc=\"Creating Table Docs\", total=len(table_summaries))]\n",
    "\n",
    "# Add texts to vectorstore with progress bar\n",
    "print(\"Adding text summaries to vectorstore...\")\n",
    "for doc in tqdm(summary_texts, desc=\"Storing Texts in Vectorstore\"):\n",
    "    retriever.vectorstore.add_documents([doc])\n",
    "\n",
    "print(\"Adding text summaries to docstore...\")\n",
    "for doc_id, text in tqdm(zip(doc_ids, texts), desc=\"Storing Texts in Docstore\", total=len(texts)):\n",
    "    retriever.docstore.mset([(doc_id, text)])\n",
    "\n",
    "# Add tables to vectorstore with progress bar\n",
    "print(\"Adding table summaries to vectorstore...\")\n",
    "for doc in tqdm(summary_tables, desc=\"Storing Tables in Vectorstore\"):\n",
    "    retriever.vectorstore.add_documents([doc])\n",
    "\n",
    "print(\"Adding table summaries to docstore...\")\n",
    "for table_id, table in tqdm(zip(table_ids, tables), desc=\"Storing Tables in Docstore\", total=len(tables)):\n",
    "    retriever.docstore.mset([(table_id, table)])\n",
    "\n",
    "# Persist the database\n",
    "# print(\"Saving vectorstore...\")\n",
    "# client.persist()\n",
    "print(\"✅ Database saved successfully!\")\n"
   ]
  },
  {
   "cell_type": "code",
   "execution_count": 46,
   "id": "f7b5a0ad-5cf7-46e1-bc44-7aa42b0fa0d5",
   "metadata": {},
   "outputs": [],
   "source": [
    "# Function to load and query the database\n",
    "def query_database(query_text, top_k=3):\n",
    "    vectorstore = Chroma(persist_directory=\"chroma_db\", collection_name=\"multi_modal_rag\", embedding_function=embedding_function)\n",
    "    retriever = vectorstore.as_retriever(search_kwargs={\"k\": top_k})\n",
    "    results = retriever.get_relevant_documents(query_text)\n",
    "    return results\n"
   ]
  },
  {
   "cell_type": "code",
   "execution_count": 50,
   "id": "718cc3f3-0667-4dca-8bf2-d502dc1b37d9",
   "metadata": {},
   "outputs": [
    {
     "data": {
      "text/plain": [
       "[Document(id='a0a4e6c8-748e-4b62-abbb-eb1a2591f944', metadata={'doc_id': '48772028-983b-4ba5-83c6-b53605f80746'}, page_content='LIC’s Jeevan Lakshya is a participating, non-linked, individual life insurance savings plan that combines protection and savings. It provides an annual income benefit to support the family, particularly children, in case of the policyholder\\'s death before maturity, along with a lump sum maturity amount regardless of the policyholder\\'s survival. The plan is available offline through agents, brokers, and other intermediaries. Key features include protection and savings, installment payment options, optional rider benefits for enhanced coverage, high sum assured rebates, and loan facilities. Eligibility requires a minimum entry age of 18 years and a maximum entry age of 50 years. The minimum policy term is 13 years, and the maximum is 25 years, with a premium paying term of policy term minus 3 years. The minimum basic sum assured is Rs. 2,00,000, with no maximum limit subject to underwriting. The risk commences immediately upon acceptance. The death benefit, payable if the policy is in-force, includes the \"Sum Assured on Death,\" vested bonuses, and any final additional bonus.\\n'),\n",
       " Document(id='6c93109e-0fd6-42d1-b68f-b9325163d556', metadata={'doc_id': '62659bd0-a729-45ed-967b-c3c51f141a57'}, page_content='LIC’s Jeevan Lakshya is a non-linked, participating, individual life assurance savings plan with Unique Identification No: 512N297V03. GST rate is 4.5% for the first year and 2.25% from the second year onwards.\\n'),\n",
       " Document(id='1011c1fb-97b3-4f61-bd99-8da74fc8baf4', metadata={'doc_id': 'db1d2db7-a5bb-4245-b04f-36ac31fabd02'}, page_content='A lapsed LIC Jeevan Azad policy can be revived within 5 years from the first unpaid premium date by paying all overdue premiums with interest, subject to continued insurability. LIC can accept, modify, or decline revival. The revival is effective only upon approval and issuance of a receipt by LIC. The revival interest rate, capped at 10-year G-Sec yield + 3% or the yield earned on the Corporation’s Non-Linked Non- Participating fund plus 1%, whichever is higher, is 9.50% p.a. compounding half-yearly for May 1, 2024 – April 30, 2025. Rider revival is only considered with the base policy.\\n\\nPolicies purchased through POSP-LI and CPSC-SPV have restrictions: Maximum entry age is 65 years minus the policy term, maximum maturity age is 65, and the maximum Sum Assured on Death is ₹25 Lakhs. The plan falls under the Non-Linked, Non-Participating, Endowment category for POS-Life products and is subject to a maximum allowable Sum Assured on Death of Rs 25 lakhs across all such policies purchased through these channels. Sum Assured on Death is also subject to non-medical limits and a Basic Sum Assured of Rs 5 lakhs for all versions of LIC’s Jeevan Azad. No riders are available. A specific Key Features Document cum Proposal Form is used for sales initiated by POSP-LI & CPSC-SPV.\\n')]"
      ]
     },
     "execution_count": 50,
     "metadata": {},
     "output_type": "execute_result"
    }
   ],
   "source": [
    "query_text = \"What is the maturity amount for jeevan lakshya give table\"\n",
    "ans = query_database(query_text)\n",
    "ans"
   ]
  },
  {
   "cell_type": "code",
   "execution_count": 52,
   "id": "91a4e1c9-3ede-4d69-88df-575b5d06234a",
   "metadata": {},
   "outputs": [
    {
     "name": "stdout",
     "output_type": "stream",
     "text": [
      "\n",
      "🔹 Result 1:\n",
      "📌 **Summary**: The table provides information for the \"Lic’s Jeevan Umany B\" insurance plan, which is a non-linked, individual, savings, whole life insurance plan. Its unique identification number is 512N312V03. The GST rate is 4.50% for the first year and 2.25% from the second year onwards.\n",
      "\n",
      "📖 **Original Text**: <table><thead><tr><th colspan=\"2\">Proposal No:</th></tr><tr><th>Remit Product:</th><th>Lic’s Jeevan Umany B</th></tr></thead><tbody><tr><td>Tag Line: |</td><td>(A Par, Non-Linked, Individual, Savings, Whole Life Insurance Plan)</td></tr><tr><td>Unique Identification No:</td><td>512N312V03</td></tr><tr><td>GST Rate (1st Year):</td><td>4.50%</td></tr><tr><td>GST Rate (2nd Year onwards):</td><td>225%</td></tr></tbody></table>...\n",
      "\n",
      "🔹 Result 2:\n",
      "📌 **Summary**: LIC’s New Jeevan Anand (UIN:512N279V03) is a non-linked insurance policy. Key details include instalment premium, mode of premium payment, premium payment term, policy term, basic sum assured, sum assured on death (higher of 125% of basic sum assured or 7 times annualized premium), and sum assured on maturity (equal to basic sum assured). The schedule also indicates any riders opted for.\n",
      "\n",
      "📖 **Original Text**: <table><tbody><tr><td rowspan=\"2\">Sl. no.</td><td rowspan=\"2\">Title Name of the Insurance Product And Unique Identification</td><td rowspan=\"2\">Description in Simple Words (Please refer to applicable Policy Clause Number in next column) | LIC’s New Jeevan Anand (UIN:512N279V03)</td><td rowspan=\"2\">Policy | Clause Number PartA</td></tr><tr><td></td><td>Number(UIN) Policy Number</td><td></td><td>PartA</td></tr><tr><td></td><td>Type of Insurance Policy</td><td>Non-Linked other than Pure risk and pe...\n",
      "\n",
      "🔹 Result 3:\n",
      "📌 **Summary**: LIC’s Jeevan Azad (UIN: 512N348V02) is a non-linked, non-pure risk insurance policy. Key details include the installment premium, premium payment mode and term, policy term, and basic sum assured, all found in the policy schedule. The Sum Assured on Death is the higher of the Basic Sum Assured or 7 times the annualized premium, while the Sum Assured on Maturity equals the Basic Sum Assured. The total Basic Sum Assured for an individual across all Jeevan Azad policies cannot exceed Rs 5 lakh.\n",
      "\n",
      "📖 **Original Text**: <table><thead><tr><th>SI. no.</th><th>Title</th><th>Description in Simple Words (Please refer to applicable Policy Number in next column)</th><th>Clause</th><th>Policy Clause Number</th></tr></thead><tbody><tr><td></td><td>Name of the Insurance Product And Unique Identification Number(UIN)</td><td>LIC’s Jeevan Azad (UIN: 512N348V02)</td><td></td><td>PartA</td></tr><tr><td></td><td>Policy Number</td><td></td><td></td><td>PartA</td></tr><tr><td></td><td>Type of Insurance Policy</td><td>Non-Linked ...\n"
     ]
    }
   ],
   "source": [
    "def query_document(query_text, retriever, top_k=3):\n",
    "    \"\"\"\n",
    "    Retrieve both the original text and its summary from the database.\n",
    "    \n",
    "    Parameters:\n",
    "    - query_text (str): The input query.\n",
    "    - retriever (MultiVectorRetriever): The retriever object.\n",
    "    - top_k (int): Number of top relevant documents to retrieve.\n",
    "\n",
    "    Returns:\n",
    "    - results (list of dict): A list of retrieved documents with text and summary.\n",
    "    \"\"\"\n",
    "    # Retrieve relevant document summaries\n",
    "    retrieved_docs = retriever.vectorstore.similarity_search(query_text, k=top_k)\n",
    "\n",
    "    results = []\n",
    "    for doc in retrieved_docs:\n",
    "        doc_id = doc.metadata[\"doc_id\"]  # Extract doc_id\n",
    "        original_text = retriever.docstore.mget([doc_id])[0]  # Fetch full text from docstore\n",
    "        results.append({\n",
    "            \"summary\": doc.page_content,  # Retrieved summary\n",
    "            \"original_text\": original_text  # Full document text\n",
    "        })\n",
    "    \n",
    "    return results\n",
    "\n",
    "# Example usage:\n",
    "query_text = \"jeevan anand\"\n",
    "retrieved_docs = query_document(query_text, retriever)\n",
    "\n",
    "for idx, doc in enumerate(retrieved_docs):\n",
    "    print(f\"\\n🔹 Result {idx + 1}:\")\n",
    "    print(f\"📌 **Summary**: {doc['summary']}\")\n",
    "    print(f\"📖 **Original Text**: {doc['original_text'][:500]}...\")  # Show first 500 chars\n"
   ]
  },
  {
   "cell_type": "code",
   "execution_count": null,
   "id": "37d2df16-948a-40f2-9f04-39eb2af222e7",
   "metadata": {},
   "outputs": [],
   "source": []
  }
 ],
 "metadata": {
  "kernelspec": {
   "display_name": "Python 3 (ipykernel)",
   "language": "python",
   "name": "python3"
  },
  "language_info": {
   "codemirror_mode": {
    "name": "ipython",
    "version": 3
   },
   "file_extension": ".py",
   "mimetype": "text/x-python",
   "name": "python",
   "nbconvert_exporter": "python",
   "pygments_lexer": "ipython3",
   "version": "3.12.5"
  }
 },
 "nbformat": 4,
 "nbformat_minor": 5
}
