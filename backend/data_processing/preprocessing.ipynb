{
 "cells": [
  {
   "cell_type": "code",
   "execution_count": null,
   "id": "0c0e72e9-aed3-4d46-955f-ceae279bd5be",
   "metadata": {},
   "outputs": [],
   "source": []
  },
  {
   "cell_type": "code",
   "execution_count": 3,
   "id": "11dc8abe-329b-47c1-8e57-487b34c665f7",
   "metadata": {},
   "outputs": [],
   "source": [
    "import os\n",
    "from unstructured.partition.pdf import partition_pdf\n",
    "import pandas as pd\n",
    "from tqdm import tqdm\n",
    "import json"
   ]
  },
  {
   "cell_type": "code",
   "execution_count": null,
   "id": "f7a4d290-50c7-45d6-a84c-cb939cfa169d",
   "metadata": {},
   "outputs": [],
   "source": []
  },
  {
   "cell_type": "code",
   "execution_count": 7,
   "id": "e1991f57-a969-4c3b-9992-85747e2cb01a",
   "metadata": {},
   "outputs": [],
   "source": [
    "def extract_chunks_from_pdfs(folder_path, output_folder=\"processed_chunks\"):\n",
    "    \"\"\"\n",
    "    Extracts chunks from all PDFs in the folder, saves them as JSON files, and preserves `orig_elements`.\n",
    "\n",
    "    Args:\n",
    "        folder_path (str): Path to the folder containing PDF files.\n",
    "        output_folder (str): Path to save processed chunks.\n",
    "    \"\"\"\n",
    "    os.makedirs(output_folder, exist_ok=True)\n",
    "    pdf_files = [f for f in os.listdir(folder_path) if f.endswith(\".pdf\")]\n",
    "    \n",
    "    for file in tqdm(pdf_files, desc=\"Processing PDFs\", unit=\"file\", leave = False):\n",
    "        output_file = os.path.join(output_folder, f\"{file}.json\")\n",
    "        \n",
    "        # Skip processing if the file is already saved\n",
    "        if os.path.exists(output_file):\n",
    "            print(f\"Skipping {file}, already processed.\")\n",
    "            continue\n",
    "        \n",
    "        file_path = os.path.join(folder_path, file)\n",
    "        chunks = partition_pdf(\n",
    "            filename=file_path,\n",
    "            infer_table_structure=True,\n",
    "            strategy=\"hi_res\",\n",
    "            chunking_strategy=\"by_title\",\n",
    "            max_characters=10000,\n",
    "            combine_text_under_n_chars=2000,\n",
    "            new_after_n_chars=6000,\n",
    "        )\n",
    "        \n",
    "        # Convert chunks to JSON serializable format\n",
    "        chunk_data = []\n",
    "        for chunk in chunks:\n",
    "            chunk_dict = chunk.to_dict()\n",
    "            \n",
    "            # Preserve original elements if available\n",
    "            if hasattr(chunk.metadata, \"orig_elements\") and chunk.metadata.orig_elements:\n",
    "                chunk_dict[\"metadata\"][\"orig_elements\"] = [elem.to_dict() for elem in chunk.metadata.orig_elements]\n",
    "            \n",
    "            chunk_data.append(chunk_dict)\n",
    "        \n",
    "        # Save to JSON file\n",
    "        with open(output_file, \"w\", encoding=\"utf-8\") as f:\n",
    "            json.dump(chunk_data, f, ensure_ascii=False, indent=4)\n",
    "        \n",
    "        print(f\"Processed and saved {file}.\")\n"
   ]
  },
  {
   "cell_type": "code",
   "execution_count": 8,
   "id": "42d331e5-d9c7-465e-ab31-51bcce16b57d",
   "metadata": {
    "scrolled": true
   },
   "outputs": [
    {
     "name": "stderr",
     "output_type": "stream",
     "text": [
      "                                                                                "
     ]
    },
    {
     "name": "stdout",
     "output_type": "stream",
     "text": [
      "Skipping New Children's Money Back Plan - Sales Brochure .pdf, already processed.\n",
      "Skipping Single Premium Endowment Plan - Sales Brochure .pdf, already processed.\n",
      "Skipping New Money Back Plan- 20 Years - CIS  New Money Back Plan-20 years .pdf, already processed.\n",
      "Skipping New Endowment Plan - Sales brochure .pdf, already processed.\n",
      "Skipping Jeevan Umang - Sales Brochures .pdf, already processed.\n",
      "Skipping Jeevan Utsav - Sales Brochure .pdf, already processed.\n",
      "Skipping LIC’s Bima Shree - CIS LIC’s Bima Shree .pdf, already processed.\n",
      "Skipping New Money Back Plan-25 years - CIS  New Money Back Plan-25 years .pdf, already processed.\n",
      "Skipping Bima Ratna - Sales Brochure .pdf, already processed.\n",
      "Skipping Jeevan Utsav - Policy Document .pdf, already processed.\n",
      "Skipping Jeevan Tarun - Sales Brochure .pdf, already processed.\n",
      "Skipping Amritbaal - CIS  Amritbaal .pdf, already processed.\n",
      "Skipping Jeevan Lakshya - CIS  Jeevan Lakshya .pdf, already processed.\n",
      "Skipping LIC’s Digi Term - CIS LIC’s Digi Term .pdf, already processed.\n",
      "Skipping New Tech-Term - Policy Document .pdf, already processed.\n",
      "Skipping Premium Waiver Benefit Rider - Policy Document .pdf, already processed.\n",
      "Skipping New Jeevan Anand - Sales brochure .pdf, already processed.\n",
      "Skipping Linked Accidental Death Benefit Rider - Policy Document .pdf, already processed.\n",
      "Skipping New Money Back Plan-25 years - Policy Document .pdf, already processed.\n",
      "Skipping Jeevan Azad - Sales Brochure .pdf, already processed.\n",
      "Skipping LIC’s Digi Term - Sales Brochure .pdf, already processed.\n",
      "Skipping New Endowment Plan - Policy Document .pdf, already processed.\n",
      "Skipping New Jeevan Amar - Policy Document .pdf, already processed.\n",
      "Skipping New Endowment Plan - CIS  New Endowment Plan .pdf, already processed.\n",
      "Skipping Bima Ratna - Policy Document .pdf, already processed.\n",
      "Skipping LIC’s Yuva Credit Life - Policy Document .pdf, already processed.\n",
      "Skipping New Jeevan Amar - CIS  New Jeevan Amar .pdf, already processed.\n",
      "Skipping Jeevan Azad - Policy Document .pdf, already processed.\n",
      "Skipping Amritbaal - Sales Brochure .pdf, already processed.\n",
      "Skipping Linked Accidental Death Benefit Rider - Sales Brochures .pdf, already processed.\n",
      "Skipping New Jeevan Amar - Sales Brochure .pdf, already processed.\n",
      "Skipping Jeevan Lakshya - Policy Document .pdf, already processed.\n",
      "Skipping Premium Waiver Benefit Rider - Sales Brochures .pdf, already processed.\n",
      "Skipping Bima Jyoti - CIS  Bima Jyoti .pdf, already processed.\n",
      "Skipping Jeevan Umang - Policy Document .pdf, already processed.\n",
      "Skipping Jeevan Labh Plan - Sales brochure .pdf, already processed.\n",
      "Skipping LIC’s Yuva Credit Life - CIS LIC’s Yuva Credit Life .pdf, already processed.\n",
      "Skipping New Tech-Term - CIS  New Tech-Term .pdf, already processed.\n",
      "Skipping Jeevan Labh Plan - Policy Document .pdf, already processed.\n",
      "Skipping Saral Jeevan Bima - Policy Document .pdf, already processed.\n",
      "Skipping LIC’s Digi Term - Policy Document .pdf, already processed.\n",
      "Skipping Bima Ratna - CIS  Bima Ratna .pdf, already processed.\n",
      "Skipping New Children's Money Back Plan - Policy Document .pdf, already processed.\n",
      "Skipping Accident Benefit Rider - Policy Document .pdf, already processed.\n",
      "Skipping Saral Jeevan Bima - Sales Brochure .pdf, already processed.\n",
      "Skipping Single Premium Endowment Plan - CIS  Single Premium Endowment Plan .pdf, already processed.\n",
      "Skipping New Jeevan Anand - Policy Document .pdf, already processed.\n",
      "Skipping New Term Assurance Rider - Sales Brochures .pdf, already processed.\n",
      "Skipping Accidental Death & Disability Benefit Rider - Sales Brochures .pdf, already processed.\n",
      "Skipping LIC’s Yuva Term - CIS LIC’s Yuva Term .pdf, already processed.\n",
      "Skipping Jeevan Umang - CIS  Jeevan Umang .pdf, already processed.\n",
      "Skipping Jeevan Tarun - Policy Document .pdf, already processed.\n",
      "Skipping LIC’s Yuva Term - Policy Document .pdf, already processed.\n",
      "Skipping Bima Jyoti - Policy Document .pdf, already processed.\n",
      "Skipping New Jeevan Anand - CIS  New Jeevan Anand .pdf, already processed.\n",
      "Skipping Saral Jeevan Bima - CIS  Saral Jeevan Bima .pdf, already processed.\n",
      "Skipping LIC’s Digi Credit Life - Sales Brochures .pdf, already processed.\n",
      "Skipping Jeevan Labh Plan - CIS  Jeevan Labh Plan .pdf, already processed.\n",
      "Skipping Jeevan Lakshya - Sales Brochure .pdf, already processed.\n",
      "Skipping LIC’s Yuva Term - Sales Brochures .pdf, already processed.\n",
      "Skipping Bima Jyoti - Sales Brochures .pdf, already processed.\n",
      "Skipping Jeevan Tarun - CIS  Jeevan Tarun .pdf, already processed.\n",
      "Skipping LIC’s Yuva Credit Life - Sales Brochure .pdf, already processed.\n",
      "Skipping LIC’s Digi Credit Life - CIS LIC’s Digi Credit Life .pdf, already processed.\n",
      "Skipping LIC’s Digi Credit Life - Policy Document .pdf, already processed.\n",
      "Skipping New Money Back Plan- 20 Years - Policy Document .pdf, already processed.\n",
      "Skipping LIC’s Bima Shree - Policy Document .pdf, already processed.\n",
      "Skipping New Money Back Plan-25 years - Sales Brochure .pdf, already processed.\n",
      "Skipping Single Premium Endowment Plan - Policy Document .pdf, already processed.\n",
      "Skipping New Tech-Term - Sales Brochure .pdf, already processed.\n",
      "Skipping Amritbaal - Policy Document .pdf, already processed.\n",
      "Skipping New Children's Money Back Plan - CIS  New Children's Money Back Plan .pdf, already processed.\n",
      "Skipping New Money Back Plan- 20 Years - Sales Brochure .pdf, already processed.\n",
      "Skipping New Term Assurance Rider - Policy Document .pdf, already processed.\n",
      "Skipping Jeevan Utsav - CIS  Jeevan Utsav .pdf, already processed.\n",
      "Skipping LIC’s Bima Shree - Sales Brochure .pdf, already processed.\n",
      "Skipping Jeevan Azad - CIS  Jeevan Azad .pdf, already processed.\n",
      "Skipping Accidental Death & Disability Benefit Rider - Policy Document .pdf, already processed.\n"
     ]
    },
    {
     "name": "stderr",
     "output_type": "stream",
     "text": [
      "\r"
     ]
    }
   ],
   "source": [
    "all_chunks = extract_chunks_from_pdfs(\"../../policy_documents\")"
   ]
  },
  {
   "cell_type": "markdown",
   "id": "78f1ff40-bf58-43e5-86aa-9816667d82e0",
   "metadata": {},
   "source": [
    "1. Extract tables from each json file's metadata.orig_elements separately. -- DONE\n",
    "2. Extract text simply from the chunks json text --DONE\n",
    "3. Summarise the text_list and the tables_list\n",
    "4. Create the database where both parent_chunks and the summaries have the same ID\n",
    "5. we query the embeddings of the summaries and retrieve the original docs\n",
    "6. Original docs are then used to give the answer."
   ]
  },
  {
   "cell_type": "markdown",
   "id": "e3a4f5bf-db05-4167-bfe5-7456bb45e597",
   "metadata": {},
   "source": [
    "BART-large-cnn for summarising the chunks\n",
    "\n",
    "Roberta base from huggingface for embeddings\n",
    "\n",
    "langchain chroma as vector store"
   ]
  },
  {
   "cell_type": "code",
   "execution_count": 74,
   "id": "b0bc64d1-910e-4ace-89a7-7c3148205ce0",
   "metadata": {},
   "outputs": [],
   "source": []
  },
  {
   "cell_type": "code",
   "execution_count": null,
   "id": "7590780c-e344-4622-bcbb-769039dd9835",
   "metadata": {},
   "outputs": [],
   "source": []
  }
 ],
 "metadata": {
  "kernelspec": {
   "display_name": "Python 3 (ipykernel)",
   "language": "python",
   "name": "python3"
  },
  "language_info": {
   "codemirror_mode": {
    "name": "ipython",
    "version": 3
   },
   "file_extension": ".py",
   "mimetype": "text/x-python",
   "name": "python",
   "nbconvert_exporter": "python",
   "pygments_lexer": "ipython3",
   "version": "3.12.5"
  }
 },
 "nbformat": 4,
 "nbformat_minor": 5
}
